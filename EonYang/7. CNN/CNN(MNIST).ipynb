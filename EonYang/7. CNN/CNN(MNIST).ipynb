{
  "cells": [
    {
      "cell_type": "markdown",
      "metadata": {
        "id": "xjEIAr8Z8BrN"
      },
      "source": [
        "## Mnist 손글씨 데이터 준비"
      ]
    },
    {
      "cell_type": "code",
      "execution_count": 1,
      "metadata": {
        "colab": {
          "base_uri": "https://localhost:8080/"
        },
        "id": "R9P_z2j68BrQ",
        "outputId": "28d75b9c-5107-4116-d110-a054a63fe341"
      },
      "outputs": [
        {
          "output_type": "stream",
          "name": "stdout",
          "text": [
            "Downloading data from https://storage.googleapis.com/tensorflow/tf-keras-datasets/mnist.npz\n",
            "11493376/11490434 [==============================] - 0s 0us/step\n",
            "11501568/11490434 [==============================] - 0s 0us/step\n"
          ]
        }
      ],
      "source": [
        "import tensorflow as tf\n",
        "import numpy as np\n",
        "\n",
        "mnist = tf.keras.datasets.mnist\n",
        "(x_train, y_train), (x_test, y_test) = mnist.load_data()\n",
        "\n",
        "# mnist 데이터는 손글씨 숫자 데이터\n",
        "# 딥러닝은 0~1 사이로 input 데이터의 범위를 해줘야 학습이 잘 됌 (일종의 normalization)\n",
        "x_train, x_test = x_train / 255.0, x_test / 255.0"
      ]
    },
    {
      "cell_type": "code",
      "source": [
        "import matplotlib.pyplot as plt\n",
        "\n",
        "image = x_train[0,:].reshape(28,28)\n",
        "plt.imshow(image)\n",
        "plt.show()"
      ],
      "metadata": {
        "colab": {
          "base_uri": "https://localhost:8080/",
          "height": 265
        },
        "id": "aOWx6hv48FrH",
        "outputId": "7053feb4-a5b0-4dbb-afe8-c814a5759b68"
      },
      "execution_count": 7,
      "outputs": [
        {
          "output_type": "display_data",
          "data": {
            "text/plain": [
              "<Figure size 432x288 with 1 Axes>"
            ],
            "image/png": "[encoded data removed]"
          },
          "metadata": {
            "needs_background": "light"
          }
        }
      ]
    },
    {
      "cell_type": "markdown",
      "metadata": {
        "id": "itwcdy4t8BrR"
      },
      "source": [
        "## Conv2D layer만 사용"
      ]
    },
    {
      "cell_type": "code",
      "execution_count": 8,
      "metadata": {
        "id": "1ctMWgH_8BrR"
      },
      "outputs": [],
      "source": [
        "from tensorflow import keras\n",
        "from keras.models import Sequential\n",
        "from keras.layers import Dense, Conv2D, MaxPooling2D, Flatten, Reshape"
      ]
    },
    {
      "cell_type": "code",
      "execution_count": 9,
      "metadata": {
        "scrolled": true,
        "colab": {
          "base_uri": "https://localhost:8080/"
        },
        "id": "TGus1GmT8BrS",
        "outputId": "70d1c1d5-db0d-4ad9-aef0-1fac2773e75b"
      },
      "outputs": [
        {
          "output_type": "execute_result",
          "data": {
            "text/plain": [
              "(60000, 28, 28)"
            ]
          },
          "metadata": {},
          "execution_count": 9
        }
      ],
      "source": [
        "x_train.shape"
      ]
    },
    {
      "cell_type": "code",
      "execution_count": 10,
      "metadata": {
        "id": "BFgllBp48BrS"
      },
      "outputs": [],
      "source": [
        "model = Sequential()\n",
        "model.add(Reshape((28, 28, 1)))\n",
        "model.add(Conv2D(16, 3, activation='relu'))\n",
        "model.add(Flatten())\n",
        "model.add(Dense(128))\n",
        "model.add(Dense(10, activation='softmax'))\n",
        "model.compile(loss='sparse_categorical_crossentropy', optimizer='Adam', metrics=['accuracy'])"
      ]
    },
    {
      "cell_type": "code",
      "execution_count": 11,
      "metadata": {
        "scrolled": false,
        "colab": {
          "base_uri": "https://localhost:8080/"
        },
        "id": "BnUSK6Ik8BrT",
        "outputId": "5448b4f4-251d-4c25-a712-c19f4aedac45"
      },
      "outputs": [
        {
          "output_type": "stream",
          "name": "stdout",
          "text": [
            "Epoch 1/5\n",
            "1875/1875 [==============================] - 37s 19ms/step - loss: 0.1591 - accuracy: 0.9519\n",
            "Epoch 2/5\n",
            "1875/1875 [==============================] - 35s 18ms/step - loss: 0.0652 - accuracy: 0.9803\n",
            "Epoch 3/5\n",
            "1875/1875 [==============================] - 38s 21ms/step - loss: 0.0449 - accuracy: 0.9858\n",
            "Epoch 4/5\n",
            "1875/1875 [==============================] - 37s 20ms/step - loss: 0.0309 - accuracy: 0.9902\n",
            "Epoch 5/5\n",
            "1875/1875 [==============================] - 35s 19ms/step - loss: 0.0240 - accuracy: 0.9918\n",
            "313/313 - 2s - loss: 0.0717 - accuracy: 0.9812 - 2s/epoch - 5ms/step\n"
          ]
        },
        {
          "output_type": "execute_result",
          "data": {
            "text/plain": [
              "[0.0717233270406723, 0.9811999797821045]"
            ]
          },
          "metadata": {},
          "execution_count": 11
        }
      ],
      "source": [
        "model.fit(x_train, y_train, epochs=5)\n",
        "model.evaluate(x_test,  y_test, verbose=2)"
      ]
    },
    {
      "cell_type": "code",
      "source": [
        ""
      ],
      "metadata": {
        "id": "igG2s-QW9S0P"
      },
      "execution_count": null,
      "outputs": []
    },
    {
      "cell_type": "markdown",
      "metadata": {
        "id": "GwNTaTQ-8BrT"
      },
      "source": [
        "## (Conv2D + Maxpooling) layer"
      ]
    },
    {
      "cell_type": "markdown",
      "metadata": {
        "id": "Csu-32ke8BrT"
      },
      "source": [
        "Pooling layer는 이미지의 크기를 작게 만듦으로써 정보의 손실을 가져온다고 볼수도 있다. 하지만 Flatten layer가 있는 모델의 구조상 pooling layer를 통해서 전체 모델의 parameter 양은 되려 줄어든다."
      ]
    },
    {
      "cell_type": "code",
      "execution_count": null,
      "metadata": {
        "scrolled": true,
        "id": "a0_FQeMu8BrU",
        "outputId": "f6c0bc64-447a-4884-c9c1-e6226fc16cef"
      },
      "outputs": [
        {
          "name": "stdout",
          "output_type": "stream",
          "text": [
            "Epoch 1/5\n",
            "60000/60000 [==============================] - 11s 186us/step - loss: 0.1690 - accuracy: 0.9495\n",
            "Epoch 2/5\n",
            "60000/60000 [==============================] - 10s 167us/step - loss: 0.0686 - accuracy: 0.9787\n",
            "Epoch 3/5\n",
            "60000/60000 [==============================] - 11s 181us/step - loss: 0.0542 - accuracy: 0.9838\n",
            "Epoch 4/5\n",
            "60000/60000 [==============================] - 11s 184us/step - loss: 0.0443 - accuracy: 0.9864\n",
            "Epoch 5/5\n",
            "60000/60000 [==============================] - 10s 161us/step - loss: 0.0365 - accuracy: 0.9881\n"
          ]
        },
        {
          "data": {
            "text/plain": [
              "[0.06498098999832291, 0.9801999926567078]"
            ]
          },
          "execution_count": 30,
          "metadata": {},
          "output_type": "execute_result"
        }
      ],
      "source": [
        "model = Sequential()\n",
        "model.add(Reshape((28, 28, 1)))\n",
        "model.add(Conv2D(16, 3, activation='relu'))\n",
        "model.add(MaxPooling2D(2))\n",
        "model.add(Flatten())\n",
        "model.add(Dense(128))\n",
        "model.add(Dense(10, activation='softmax'))\n",
        "model.compile(loss='sparse_categorical_crossentropy', optimizer='Adam', metrics=['accuracy'])\n",
        "\n",
        "\n",
        "model.fit(x_train, y_train, epochs=5)\n",
        "model.evaluate(x_test,  y_test, verbose=2)"
      ]
    },
    {
      "cell_type": "markdown",
      "metadata": {
        "id": "ZwfhpOtN8BrU"
      },
      "source": [
        "## 더 깊은 layer 층"
      ]
    },
    {
      "cell_type": "code",
      "execution_count": null,
      "metadata": {
        "scrolled": true,
        "id": "G3Ter5Up8BrV",
        "outputId": "c7a69e4a-0807-4500-93a9-c199cfbafef3"
      },
      "outputs": [
        {
          "name": "stdout",
          "output_type": "stream",
          "text": [
            "Epoch 1/5\n",
            "60000/60000 [==============================] - 15s 252us/step - loss: 0.1384 - accuracy: 0.9582\n",
            "Epoch 2/5\n",
            "60000/60000 [==============================] - 14s 228us/step - loss: 0.0523 - accuracy: 0.9835\n",
            "Epoch 3/5\n",
            "60000/60000 [==============================] - 14s 225us/step - loss: 0.0399 - accuracy: 0.9877\n",
            "Epoch 4/5\n",
            "60000/60000 [==============================] - 14s 226us/step - loss: 0.0317 - accuracy: 0.9898\n",
            "Epoch 5/5\n",
            "60000/60000 [==============================] - 13s 222us/step - loss: 0.0263 - accuracy: 0.9915\n"
          ]
        },
        {
          "data": {
            "text/plain": [
              "[0.04398057919087005, 0.9857000112533569]"
            ]
          },
          "execution_count": 31,
          "metadata": {},
          "output_type": "execute_result"
        }
      ],
      "source": [
        "model = Sequential()\n",
        "model.add(Reshape((28, 28, 1)))\n",
        "model.add(Conv2D(16, 3, activation='relu'))\n",
        "model.add(MaxPooling2D(2))\n",
        "model.add(Conv2D(32, 3, activation='relu'))\n",
        "model.add(MaxPooling2D(2))\n",
        "model.add(Flatten())\n",
        "model.add(Dense(128))\n",
        "model.add(Dense(10, activation='softmax'))\n",
        "model.compile(loss='sparse_categorical_crossentropy', optimizer='Adam', metrics=['accuracy'])\n",
        "\n",
        "\n",
        "model.fit(x_train, y_train, epochs=5)\n",
        "model.evaluate(x_test,  y_test, verbose=2)"
      ]
    },
    {
      "cell_type": "markdown",
      "metadata": {
        "id": "aWRYjOpz8BrV"
      },
      "source": [
        "## Padding 반영"
      ]
    },
    {
      "cell_type": "code",
      "execution_count": null,
      "metadata": {
        "id": "ZxD7LBZ88BrV",
        "outputId": "5ddce4a1-63c1-40e9-f466-c0f9ae5db91d"
      },
      "outputs": [
        {
          "name": "stdout",
          "output_type": "stream",
          "text": [
            "Epoch 1/5\n",
            "60000/60000 [==============================] - 19s 323us/step - loss: 0.1418 - accuracy: 0.9576\n",
            "Epoch 2/5\n",
            "60000/60000 [==============================] - 19s 310us/step - loss: 0.0524 - accuracy: 0.9840\n",
            "Epoch 3/5\n",
            "60000/60000 [==============================] - 19s 311us/step - loss: 0.0394 - accuracy: 0.9876\n",
            "Epoch 4/5\n",
            "60000/60000 [==============================] - 19s 309us/step - loss: 0.0320 - accuracy: 0.9900\n",
            "Epoch 5/5\n",
            "60000/60000 [==============================] - 19s 313us/step - loss: 0.0259 - accuracy: 0.9917\n"
          ]
        },
        {
          "data": {
            "text/plain": [
              "[0.03481202310656518, 0.9887999892234802]"
            ]
          },
          "execution_count": 32,
          "metadata": {},
          "output_type": "execute_result"
        }
      ],
      "source": [
        "model = Sequential()\n",
        "model.add(Reshape((28, 28, 1)))\n",
        "model.add(Conv2D(16, 3, activation='relu',padding=\"same\"))\n",
        "model.add(MaxPooling2D(2))\n",
        "model.add(Conv2D(32, 3, activation='relu',padding=\"same\"))\n",
        "model.add(MaxPooling2D(2))\n",
        "model.add(Flatten())\n",
        "model.add(Dense(128))\n",
        "model.add(Dense(10, activation='softmax'))\n",
        "model.compile(loss='sparse_categorical_crossentropy', optimizer='Adam', metrics=['accuracy'])\n",
        "\n",
        "\n",
        "model.fit(x_train, y_train, epochs=5)\n",
        "model.evaluate(x_test,  y_test, verbose=2)"
      ]
    },
    {
      "cell_type": "markdown",
      "source": [
        "# Prediction"
      ],
      "metadata": {
        "id": "5XHxw89p9hnA"
      }
    },
    {
      "cell_type": "code",
      "execution_count": 12,
      "metadata": {
        "id": "3RzXKWjQ8BrW"
      },
      "outputs": [],
      "source": [
        "predictions = model.predict(x_test)"
      ]
    },
    {
      "cell_type": "code",
      "source": [
        "count = 9999\n",
        "print(predictions[count])\n",
        "print('예측 : 숫자', np.argmax(predictions[count]))\n",
        "image = x_test[count,:].reshape(28,28)\n",
        "print('정답 : 숫자', f'{int(y_test[count])}')\n",
        "plt.imshow(image)\n",
        "plt.show()"
      ],
      "metadata": {
        "colab": {
          "base_uri": "https://localhost:8080/",
          "height": 338
        },
        "id": "nm7CUSwM9cGi",
        "outputId": "24ced00a-2586-4b3d-d214-4f551d394dbd"
      },
      "execution_count": 16,
      "outputs": [
        {
          "output_type": "stream",
          "name": "stdout",
          "text": [
            "[5.8155668e-11 1.0134315e-11 1.1942161e-08 2.1935781e-11 7.3278539e-10\n",
            " 2.6579269e-08 1.0000000e+00 1.1264166e-15 2.1052051e-12 3.8169778e-14]\n",
            "예측 : 숫자 6\n",
            "정답 : 숫자 6\n"
          ]
        },
        {
          "output_type": "display_data",
          "data": {
            "text/plain": [
              "<Figure size 432x288 with 1 Axes>"
            ],
            "image/png": "[encoded data removed]"
          },
          "metadata": {
            "needs_background": "light"
          }
        }
      ]
    },
    {
      "cell_type": "code",
      "source": [
        ""
      ],
      "metadata": {
        "id": "IdMxEr2w-ulx"
      },
      "execution_count": null,
      "outputs": []
    }
  ],
  "metadata": {
    "kernelspec": {
      "display_name": "Python 3",
      "language": "python",
      "name": "python3"
    },
    "language_info": {
      "codemirror_mode": {
        "name": "ipython",
        "version": 3
      },
      "file_extension": ".py",
      "mimetype": "text/x-python",
      "name": "python",
      "nbconvert_exporter": "python",
      "pygments_lexer": "ipython3",
      "version": "3.8.5"
    },
    "colab": {
      "name": "CNN(MNIST).ipynb",
      "provenance": [],
      "collapsed_sections": []
    }
  },
  "nbformat": 4,
  "nbformat_minor": 0
}